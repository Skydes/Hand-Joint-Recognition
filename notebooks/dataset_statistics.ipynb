{
 "cells": [
  {
   "cell_type": "code",
   "execution_count": 1,
   "metadata": {},
   "outputs": [],
   "source": [
    "import h5py\n",
    "from pathlib import Path\n",
    "import numpy as np\n",
    "import math\n",
    "\n",
    "from utils import plot_imgs\n",
    "from jointrecog.settings import DATA_PATH"
   ]
  },
  {
   "cell_type": "code",
   "execution_count": 2,
   "metadata": {},
   "outputs": [],
   "source": [
    "def conv(im):\n",
    "    return np.flip(np.moveaxis(im, 0, -1), -1)\n",
    "def crop_hand(img, kp_2D):\n",
    "    # Find the outer most keypoints to define the tight bounding box\n",
    "    x_min, x_max = math.ceil(kp_2D[:,0].min()), math.floor(kp_2D[:,0].max())\n",
    "    y_min, y_max = math.ceil(kp_2D[:,1].min()), math.floor(kp_2D[:,1].max())\n",
    "\n",
    "    if x_max == img.shape[1]:\n",
    "        x_max = img.shape[1]-1\n",
    "    if y_max == img.shape[0]:\n",
    "        y_max = img.shape[0]-1\n",
    "    # Joint coordinate maxes\n",
    "    left_max, right_max = x_min, x_max\n",
    "    up_max, bottom_max = y_min, y_max\n",
    "    # Add a buffer around the extracted bounding box\n",
    "    buff = 8\n",
    "    if x_min - buff >= 0:\n",
    "        x_min -= buff\n",
    "    if x_max + buff < img.shape[1]:\n",
    "        x_max += buff\n",
    "    if y_min - buff >= 0:\n",
    "        y_min -= buff\n",
    "    if y_max + buff < img.shape[0]:\n",
    "        y_max += buff\n",
    "    # Expand rectangle to square by elongating the shorter side of the rectangle\n",
    "    y_diff = y_max - y_min\n",
    "    x_diff = x_max - x_min\n",
    "    if y_diff > x_diff:\n",
    "        len_to_board_x = img.shape[1] - x_max\n",
    "        # Check if square would extend beyond image. Extend on other side instead\n",
    "        if x_min + y_diff < img.shape[1]:\n",
    "            x_max = x_min + y_diff\n",
    "        else:\n",
    "            # Can't extend only on one side, extend on both sides\n",
    "            x_min = x_max - (y_diff - (len_to_board_x - 1))\n",
    "            x_max += (len_to_board_x - 1)\n",
    "    else:\n",
    "        len_to_board_y = img.shape[0] - y_max\n",
    "        if y_min + x_diff < img.shape[0]:\n",
    "            y_max = y_min + x_diff\n",
    "        else:\n",
    "            # Can't extend only on one side, extend on both sides\n",
    "            y_min = y_max - (x_diff - (len_to_board_y - 1))\n",
    "            y_max += (len_to_board_y - 1)\n",
    "\n",
    "    # Extract the crop\n",
    "    img_crop = img[y_min:y_max, x_min:x_max, :]\n",
    "\n",
    "    assert(x_min >= 0 and x_max < img.shape[1] and y_min >=0 and\n",
    "        y_max < img.shape[0])\n",
    "    assert(y_min<y_max and x_min<x_max)\n",
    "\n",
    "    # Translate the coordinates accordingly\n",
    "    kp_2D_crop = kp_2D - np.array([[x_min, y_min]])\n",
    "    # Some coordinates are slighty outside the image border. Fix\n",
    "    if kp_2D_crop[:,0].max() > img_crop.shape[1]:\n",
    "        idx = kp_2D_crop[:,0].argmax()\n",
    "        kp_2D_crop[idx, 0] = img_crop.shape[1]\n",
    "    if kp_2D_crop[:,1].max() > img_crop.shape[0]:\n",
    "        idx = kp_2D_crop[:,1].argmax()\n",
    "        kp_2D_crop[idx, 1] = img_crop.shape[0]\n",
    "\n",
    "    return img_crop, kp_2D_crop"
   ]
  },
  {
   "cell_type": "code",
   "execution_count": 3,
   "metadata": {},
   "outputs": [],
   "source": [
    "train = h5py.File(Path(DATA_PATH, 'training.h5'), 'r')['train']"
   ]
  },
  {
   "cell_type": "code",
   "execution_count": 4,
   "metadata": {},
   "outputs": [],
   "source": [
    "cropped_kp = []\n",
    "for img, kp in zip(train['img'], train['kp_2D']):\n",
    "    i, k = crop_hand(conv(img), kp)\n",
    "    k = k / np.array(i.shape[:2])[::-1]\n",
    "    cropped_kp.append(k)\n",
    "cropped_kp = np.stack(cropped_kp)"
   ]
  },
  {
   "cell_type": "code",
   "execution_count": 5,
   "metadata": {},
   "outputs": [
    {
     "data": {
      "text/plain": [
       "array([[ 0.40865918,  0.45789533],\n",
       "       [ 0.43802365,  0.3417364 ],\n",
       "       [ 0.43249291,  0.36539183],\n",
       "       [ 0.42411622,  0.36192796],\n",
       "       [ 0.41629521,  0.39991149],\n",
       "       [ 0.43381974,  0.43200111],\n",
       "       [ 0.43315204,  0.39809707],\n",
       "       [ 0.43469335,  0.36059724],\n",
       "       [ 0.42784982,  0.34791589],\n",
       "       [ 0.423427  ,  0.52973961],\n",
       "       [ 0.42465896,  0.49016315],\n",
       "       [ 0.42810474,  0.44159206],\n",
       "       [ 0.42400355,  0.41166805],\n",
       "       [ 0.41649457,  0.58897491],\n",
       "       [ 0.41647365,  0.55974717],\n",
       "       [ 0.4194568 ,  0.51760699],\n",
       "       [ 0.41887264,  0.47361361],\n",
       "       [ 0.4134851 ,  0.64843264],\n",
       "       [ 0.41413161,  0.62756074],\n",
       "       [ 0.41657499,  0.60253332],\n",
       "       [ 0.41212397,  0.54946456]])"
      ]
     },
     "execution_count": 5,
     "metadata": {},
     "output_type": "execute_result"
    }
   ],
   "source": [
    "m = np.mean(cropped_kp, axis=0)\n",
    "m"
   ]
  }
 ],
 "metadata": {
  "kernelspec": {
   "display_name": "Python 3",
   "language": "python",
   "name": "python3"
  },
  "language_info": {
   "codemirror_mode": {
    "name": "ipython",
    "version": 3
   },
   "file_extension": ".py",
   "mimetype": "text/x-python",
   "name": "python",
   "nbconvert_exporter": "python",
   "pygments_lexer": "ipython3",
   "version": "3.6.1"
  }
 },
 "nbformat": 4,
 "nbformat_minor": 2
}
